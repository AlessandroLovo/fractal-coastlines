{
 "cells": [
  {
   "cell_type": "code",
   "execution_count": null,
   "metadata": {},
   "outputs": [],
   "source": [
    "import numpy as np\n",
    "import matplotlib.pyplot as plt\n",
    "%matplotlib widget"
   ]
  },
  {
   "cell_type": "code",
   "execution_count": null,
   "metadata": {},
   "outputs": [],
   "source": [
    "class OrnsteinUhlenbeck():\n",
    "    def __init__(self, mu=0, theta=1, sigma=1, dt=0.01):\n",
    "        self.mu = mu\n",
    "        self.theta = theta\n",
    "        self.sigma = sigma\n",
    "        self.dt = dt\n",
    "\n",
    "    def update(self, t, x):\n",
    "        dx = (self.mu - x)*self.theta*self.dt + self.sigma*np.sqrt(self.dt)*np.random.standard_normal()\n",
    "        return t + self.dt, x + dx\n",
    "    \n",
    "    def sequence(self, length=100, x0=0):\n",
    "        t = 0\n",
    "        x = x0\n",
    "        seq = [x0]\n",
    "        for i in range(length - 1):\n",
    "            t, x = self.update(t, x)\n",
    "            seq.append(x)\n",
    "        return np.array(seq)"
   ]
  },
  {
   "cell_type": "code",
   "execution_count": null,
   "metadata": {},
   "outputs": [],
   "source": [
    "ou = OrnsteinUhlenbeck()\n",
    "\n",
    "traj = [(0,0)]\n",
    "\n",
    "for i in range(10):\n",
    "    traj.append(ou.update(*traj[-1]))\n",
    "\n",
    "traj = np.array(traj)"
   ]
  },
  {
   "cell_type": "code",
   "execution_count": null,
   "metadata": {},
   "outputs": [],
   "source": [
    "plt.close(1)\n",
    "fig, ax = plt.subplots(num=1, figsize=(9,6))\n",
    "\n",
    "plt.plot(traj[:,0], traj[:,1])\n",
    "\n",
    "fig.tight_layout()"
   ]
  },
  {
   "cell_type": "code",
   "execution_count": null,
   "metadata": {},
   "outputs": [],
   "source": [
    "def place_along_line(z:np.ndarray, start:tuple, end:tuple, touches_endpoints=False):\n",
    "    x1, y1 = start\n",
    "    x2, y2 = end\n",
    "    if touches_endpoints:\n",
    "        z = z - z[0]\n",
    "        z = z - np.linspace(0,1,len(z))*z[-1]\n",
    "\n",
    "    points = np.zeros((len(z),2), dtype=float) + np.array((x1,y1))\n",
    "    vec_par = np.array((x2 - x1, y2 - y1))/(len(z) - 1)\n",
    "    vec_perp = np.array((-vec_par[1], vec_par[0]))\n",
    "    for i in range(len(z)):\n",
    "        points[i] += z[i] * vec_perp + i*vec_par\n",
    "    return points"
   ]
  },
  {
   "cell_type": "code",
   "execution_count": null,
   "metadata": {},
   "outputs": [],
   "source": [
    "points = place_along_line(10*traj[:,1], (2,5), (100,-1), touches_endpoints=True)\n",
    "\n",
    "plt.close(2)\n",
    "fig, ax = plt.subplots(num=2, figsize=(9,6))\n",
    "plt.axis('equal')\n",
    "\n",
    "plt.plot(points[:,0], points[:,1])\n",
    "\n",
    "fig.tight_layout()"
   ]
  },
  {
   "cell_type": "code",
   "execution_count": null,
   "metadata": {},
   "outputs": [],
   "source": [
    "def recursive_fractal_segment(start, end, zs=10, iterations=None, regenerate=True, total_points=1000, **kwargs):\n",
    "    nz = zs if isinstance(zs, int) else len(zs)\n",
    "    if iterations is None:\n",
    "        iterations = int(np.log(total_points)/np.log(nz))\n",
    "        print(f'{iterations = }')\n",
    "    if isinstance(zs,int) or regenerate:\n",
    "        ou = OrnsteinUhlenbeck(**kwargs)\n",
    "        zs = ou.sequence(length=nz)\n",
    "        # print(zs)\n",
    "    points =  place_along_line(zs, start, end, touches_endpoints=True)\n",
    "    \n",
    "    if iterations == 1:\n",
    "        return points\n",
    "    else:\n",
    "        ps = []\n",
    "        for i in range(points.shape[0] - 1):\n",
    "            _ps = recursive_fractal_segment(points[i], points[i+1], zs=zs, iterations=iterations-1, regenerate=regenerate, **kwargs)\n",
    "            ps.append(_ps[:-1])\n",
    "        ps.append(_ps[-1:])\n",
    "        return np.concatenate(ps, axis=0)\n",
    "    "
   ]
  },
  {
   "cell_type": "code",
   "execution_count": null,
   "metadata": {},
   "outputs": [],
   "source": [
    "plt.close(3)\n",
    "fig, ax = plt.subplots(num=3, figsize=(9,6))\n",
    "plt.axis('equal')\n",
    "\n",
    "# points = [(0,0), (0,1), (1,1), (1,0), (0,0)]\n",
    "# points = [(0,0), (1,1)]\n",
    "# points = [(0,0), (0,0.4), (1,0.5), (0,0.6), (0,1)]\n",
    "# points = np.outer(np.arange(4), np.ones(2))\n",
    "cplx = np.exp(1j*np.linspace(0,2*np.pi,6)) ; points = np.stack([np.real(cplx), np.imag(cplx)]).T\n",
    "points = np.array(points)\n",
    "plt.scatter(points[:,0], points[:,1], color='red')\n",
    "\n",
    "ps = []\n",
    "for i in range(len(points) - 1):\n",
    "    segment_length = np.linalg.norm(points[i+1] - points[i])\n",
    "    total_points = int(np.ceil(segment_length))*10000\n",
    "    _ps = recursive_fractal_segment(points[i], points[i+1], zs=3, total_points=total_points, regenerate=True, sigma=7, theta=1)\n",
    "    ps.append(_ps[:-1])\n",
    "ps.append(_ps[-1:])\n",
    "points = np.concatenate(ps, axis=0)\n",
    "\n",
    "plt.plot(points[:,0], points[:,1])\n",
    "\n",
    "fig.tight_layout()"
   ]
  },
  {
   "cell_type": "code",
   "execution_count": null,
   "metadata": {},
   "outputs": [],
   "source": []
  }
 ],
 "metadata": {
  "kernelspec": {
   "display_name": "ml",
   "language": "python",
   "name": "python3"
  },
  "language_info": {
   "codemirror_mode": {
    "name": "ipython",
    "version": 3
   },
   "file_extension": ".py",
   "mimetype": "text/x-python",
   "name": "python",
   "nbconvert_exporter": "python",
   "pygments_lexer": "ipython3",
   "version": "3.10.12"
  },
  "orig_nbformat": 4
 },
 "nbformat": 4,
 "nbformat_minor": 2
}
