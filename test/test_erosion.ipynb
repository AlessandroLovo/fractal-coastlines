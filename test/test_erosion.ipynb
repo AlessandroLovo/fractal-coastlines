{
 "cells": [
  {
   "cell_type": "code",
   "execution_count": null,
   "metadata": {},
   "outputs": [],
   "source": [
    "import numpy as np\n",
    "import matplotlib.pyplot as plt\n",
    "%matplotlib widget\n",
    "from tqdm.notebook import tqdm\n",
    "from perlin_noise import PerlinNoise"
   ]
  },
  {
   "cell_type": "code",
   "execution_count": null,
   "metadata": {},
   "outputs": [],
   "source": [
    "a = np.random.rand(1000000)\n",
    "a.shape"
   ]
  },
  {
   "cell_type": "code",
   "execution_count": null,
   "metadata": {},
   "outputs": [],
   "source": [
    "%%time\n",
    "b = np.sort(a)"
   ]
  },
  {
   "cell_type": "code",
   "execution_count": null,
   "metadata": {},
   "outputs": [],
   "source": [
    "%%time\n",
    "c = np.sort(b, kind='mergesort')"
   ]
  },
  {
   "cell_type": "code",
   "execution_count": null,
   "metadata": {},
   "outputs": [],
   "source": [
    "size = (100, 100)\n",
    "\n",
    "# initialize heigh map with perlin noise\n",
    "height_map0 = np.zeros(size)\n",
    "\n",
    "noise = PerlinNoise(octaves=3, seed=1)\n",
    "y_ridge_mean = 20\n",
    "ridge_wobble = 10\n",
    "wobble_noise = PerlinNoise(octaves=3, seed=2)\n",
    "y_ridge = y_ridge_mean + ridge_wobble*np.array([wobble_noise(i/size[0]) for i in range(size[0])])\n",
    "y_sigma = 10\n",
    "ridge_height = 1\n",
    "\n",
    "for i in tqdm(range(size[0])):\n",
    "    for j in range(size[1]):\n",
    "        height_map0[i,j] = ridge_height/(1 + (j - y_ridge[i])**2 / y_sigma**2) + noise([i/size[0], j/size[1]]) + 1\n",
    "\n",
    "plt.close(1)\n",
    "fig, ax = plt.subplots(num=1, figsize=(9,6))\n",
    "\n",
    "plt.imshow(height_map0, cmap='gray')\n",
    "plt.colorbar()\n",
    "\n",
    "fig.tight_layout()"
   ]
  },
  {
   "cell_type": "code",
   "execution_count": null,
   "metadata": {},
   "outputs": [],
   "source": []
  }
 ],
 "metadata": {
  "kernelspec": {
   "display_name": "cli",
   "language": "python",
   "name": "python3"
  },
  "language_info": {
   "codemirror_mode": {
    "name": "ipython",
    "version": 3
   },
   "file_extension": ".py",
   "mimetype": "text/x-python",
   "name": "python",
   "nbconvert_exporter": "python",
   "pygments_lexer": "ipython3",
   "version": "3.12.2"
  }
 },
 "nbformat": 4,
 "nbformat_minor": 2
}
